{
 "cells": [
  {
   "cell_type": "markdown",
   "metadata": {},
   "source": [
    "### ROI-pooling layer tutorial CPU tensorflow\n",
    "\n",
    "We compare two implementations of the ROI pooling layer to understand their differences in convenience/performance. This is meant for CPU only.\n",
    "\n",
    "#### Loading the libraries\n",
    "\n",
    "After having compiled, with make in the roi-pooling directory:"
   ]
  },
  {
   "cell_type": "code",
   "execution_count": 1,
   "metadata": {
    "collapsed": false
   },
   "outputs": [],
   "source": [
    "import os\n",
    "import numpy as np\n",
    "import tensorflow as tf\n",
    "from tensorflow.python.framework import ops\n",
    "from tensorflow.python.ops import array_ops\n",
    "\n",
    "wd = os.getcwd() # get the working directory\n",
    "# wd = wd + '/example/of/new/path/'"
   ]
  },
  {
   "cell_type": "code",
   "execution_count": 2,
   "metadata": {
    "collapsed": false
   },
   "outputs": [],
   "source": [
    "roi_pooling_module_1 = tf.load_op_library(wd+\"/module_1/roi_pooling.so\")\n",
    "roi_pooling_op_1 = roi_pooling_module_1.roi_pooling1\n",
    "roi_pooling_grad_op_1 = roi_pooling_module_1.roi_pooling1_grad"
   ]
  },
  {
   "cell_type": "code",
   "execution_count": null,
   "metadata": {
    "collapsed": true
   },
   "outputs": [],
   "source": [
    "roi_pooling_module_2 = tf.load_op_library(wd+\"/module_2/roi_pooling.so\")\n",
    "roi_pooling_op_2 = roi_pooling_module_2.roi_pooling2\n",
    "roi_pooling_module_2_grad = tf.load_op_library(wd+\"/module_2/roi_pooling_op_grad.so\")\n",
    "roi_pooling_grad_op_2 = roi_pooling_module_2_grad.roi_pooling2_grad"
   ]
  },
  {
   "cell_type": "code",
   "execution_count": 3,
   "metadata": {
    "collapsed": true
   },
   "outputs": [],
   "source": [
    "init = tf.global_variables_initializer()\n",
    "sess = tf.Session()"
   ]
  },
  {
   "cell_type": "markdown",
   "metadata": {},
   "source": [
    "#### Checking the inference on simple examples [Forward pass]\n",
    "\n",
    "We perform <a href=\"https://blog.deepsense.ai/region-of-interest-pooling-explained/\">ROI pooling</a> only caring about the forward pass in the first place."
   ]
  },
  {
   "cell_type": "code",
   "execution_count": 4,
   "metadata": {
    "collapsed": false
   },
   "outputs": [
    {
     "data": {
      "text/plain": [
       "array([[ 1,  2,  3,  4,  5,  6,  7],\n",
       "       [ 2,  4,  6,  8, 10, 12, 14],\n",
       "       [ 3,  6,  9, 12, 15, 18, 21],\n",
       "       [ 4,  8, 12, 16, 20, 24, 28],\n",
       "       [ 5, 10, 15, 20, 25, 30, 35],\n",
       "       [ 6, 12, 18, 24, 30, 36, 42],\n",
       "       [ 7, 14, 21, 28, 35, 42, 49]])"
      ]
     },
     "execution_count": 4,
     "metadata": {},
     "output_type": "execute_result"
    }
   ],
   "source": [
    "w,h = 7,7\n",
    "test_array = np.arange(1,1+w).reshape(-1,1)*np.arange(1,1+h).reshape(1,-1)\n",
    "test_array"
   ]
  },
  {
   "cell_type": "code",
   "execution_count": 5,
   "metadata": {
    "collapsed": false
   },
   "outputs": [
    {
     "name": "stdout",
     "output_type": "stream",
     "text": [
      "('Input shape: ', (1, 7, 7, 1))\n",
      "('Output shape: ', (1, 2, 2, 1))\n"
     ]
    },
    {
     "data": {
      "text/plain": [
       "array([[ 16.,  28.],\n",
       "       [ 28.,  49.]], dtype=float32)"
      ]
     },
     "execution_count": 5,
     "metadata": {},
     "output_type": "execute_result"
    }
   ],
   "source": [
    "input_1 = test_array.reshape(1,w,h,1).astype(np.float32)\n",
    "print(\"Input shape: \",input_1.shape)\n",
    "input_tf_1 = tf.constant(input_1)\n",
    "rois_tf_1 = tf.constant([(0,0,0, h, w)], dtype=tf.float32)\n",
    "output_tf_1 = roi_pooling_op_1(input_tf_1, rois_tf_1,2,2,1.0)[0]\n",
    "output_1 = sess.run(output_tf_1)\n",
    "print(\"Output shape: \",output_1.shape)\n",
    "output_1.squeeze()"
   ]
  },
  {
   "cell_type": "code",
   "execution_count": 6,
   "metadata": {
    "collapsed": false
   },
   "outputs": [
    {
     "name": "stdout",
     "output_type": "stream",
     "text": [
      "('Input shape: ', (1, 1, 7, 7))\n",
      "('Output shape: ', (1, 1, 1, 2, 2))\n"
     ]
    },
    {
     "data": {
      "text/plain": [
       "array([[  9.,  18.],\n",
       "       [ 18.,  36.]], dtype=float32)"
      ]
     },
     "execution_count": 6,
     "metadata": {},
     "output_type": "execute_result"
    }
   ],
   "source": [
    "input_2 = test_array.reshape(1,1,h,w).astype(np.float32)\n",
    "print(\"Input shape: \",input_2.shape)\n",
    "input_tf_2 = tf.constant(input_2)\n",
    "rois_tf_2 = tf.constant([[(0, 0, h, w)]])\n",
    "output_shape_tf_2 = tf.constant((2, 2))\n",
    "output_tf_2, argmax_tf_2 = roi_pooling_op_2(input_tf_2, rois_tf_2, output_shape_tf_2)\n",
    "output_2, argmax_2 = sess.run([output_tf_2, argmax_tf_2])\n",
    "print(\"Output shape: \",output_2.shape)\n",
    "output_2.squeeze()"
   ]
  },
  {
   "cell_type": "markdown",
   "metadata": {},
   "source": [
    "#### Checking the gradient  [Backward pass]"
   ]
  },
  {
   "cell_type": "code",
   "execution_count": 7,
   "metadata": {
    "collapsed": true
   },
   "outputs": [],
   "source": [
    "@ops.RegisterShape(\"RoiPooling1\")\n",
    "def _roi_pool_shape(op):\n",
    "    dims_data = op.inputs[0].get_shape().as_list()\n",
    "    channels = dims_data[3]\n",
    "    dims_rois = op.inputs[1].get_shape().as_list()\n",
    "    num_rois = dims_rois[0]\n",
    "\n",
    "    pooled_height = op.get_attr('pooled_height')\n",
    "    pooled_width = op.get_attr('pooled_width')\n",
    "\n",
    "    output_shape = tf.TensorShape([num_rois, pooled_height, pooled_width, channels])\n",
    "    return [output_shape, output_shape]\n",
    "\n",
    "@ops.RegisterGradient(\"RoiPooling1\")\n",
    "def _roi_pool_grad(op, grad, _):\n",
    "    data = op.inputs[0]\n",
    "    rois = op.inputs[1]\n",
    "    argmax = op.outputs[1]\n",
    "    pooled_height = op.get_attr('pooled_height')\n",
    "    pooled_width = op.get_attr('pooled_width')\n",
    "    spatial_scale = op.get_attr('spatial_scale')\n",
    "\n",
    "    # compute gradient - changed - roi_pooling_op.roi_pool_grad\n",
    "    data_grad = roi_pooling_grad_op_1(data, rois, argmax, grad, pooled_height, pooled_width, spatial_scale)\n",
    "\n",
    "    return [data_grad, None]  # List of one Tensor, since we have one input"
   ]
  },
  {
   "cell_type": "code",
   "execution_count": 8,
   "metadata": {
    "collapsed": false
   },
   "outputs": [],
   "source": [
    "# Here we register our gradient op as the gradient function for our ROI pooling op. \n",
    "@ops.RegisterGradient(\"RoiPooling2\")\n",
    "def _roi_pooling_grad(op, grad0, grad1):\n",
    "    # The input gradients are the gradients with respect to the outputs of the pooling layer\n",
    "    input_grad = grad0\n",
    "    \n",
    "    # We need the argmax data to compute the gradient connections\n",
    "    argmax = op.outputs[1]\n",
    "    \n",
    "    # Grab the shape of the inputs to the ROI pooling layer\n",
    "    input_shape = array_ops.shape(op.inputs[0])\n",
    "    \n",
    "    # Compute the gradient -> roi_pooling_op_grad is not defined ...\n",
    "    backprop_grad = roi_pooling_grad_op_2(input_grad, argmax, input_shape)\n",
    "    \n",
    "    # Return the gradient for the feature map, but not for the other inputs\n",
    "    return [backprop_grad, None, None]"
   ]
  },
  {
   "cell_type": "code",
   "execution_count": 9,
   "metadata": {
    "collapsed": true
   },
   "outputs": [],
   "source": [
    "variable_1 = tf.get_variable(\n",
    "    \"variable_1\",\n",
    "    shape=[1,w,h,1],\n",
    "    dtype=tf.float32,\n",
    "    initializer=tf.constant_initializer(input_1))"
   ]
  },
  {
   "cell_type": "code",
   "execution_count": 10,
   "metadata": {
    "collapsed": false
   },
   "outputs": [],
   "source": [
    "variable_2 = tf.get_variable(\n",
    "    \"variable_2\",\n",
    "    shape=[1,1,h,w],\n",
    "    dtype=tf.float32,\n",
    "    initializer=tf.constant_initializer(input_2))"
   ]
  },
  {
   "cell_type": "code",
   "execution_count": 11,
   "metadata": {
    "collapsed": false
   },
   "outputs": [],
   "source": [
    "init=tf.global_variables_initializer()\n",
    "sess.run(init)"
   ]
  },
  {
   "cell_type": "code",
   "execution_count": 12,
   "metadata": {
    "collapsed": false
   },
   "outputs": [
    {
     "data": {
      "text/plain": [
       "array([[ 0.,  0.,  0.,  0.,  0.,  0.,  0.],\n",
       "       [ 0.,  0.,  0.,  0.,  0.,  0.,  0.],\n",
       "       [ 0.,  0.,  0.,  0.,  0.,  0.,  0.],\n",
       "       [ 0.,  0.,  0.,  1.,  0.,  0.,  1.],\n",
       "       [ 0.,  0.,  0.,  0.,  0.,  0.,  0.],\n",
       "       [ 0.,  0.,  0.,  0.,  0.,  0.,  0.],\n",
       "       [ 0.,  0.,  0.,  1.,  0.,  0.,  1.]], dtype=float32)"
      ]
     },
     "execution_count": 12,
     "metadata": {},
     "output_type": "execute_result"
    }
   ],
   "source": [
    "output_tf_1 = roi_pooling_op_1(variable_1, rois_tf_1,2,2,1.0)[0]\n",
    "loss_tf_1 = tf.reduce_sum(output_tf_1)\n",
    "grad_tf_1 = tf.gradients(loss_tf_1,variable_1)\n",
    "grad_1 = sess.run(grad_tf_1[0])\n",
    "np.squeeze(grad_1)"
   ]
  },
  {
   "cell_type": "code",
   "execution_count": 13,
   "metadata": {
    "collapsed": false
   },
   "outputs": [
    {
     "data": {
      "text/plain": [
       "array([[ 0.,  0.,  0.,  0.,  0.,  0.,  0.],\n",
       "       [ 0.,  0.,  0.,  0.,  0.,  0.,  0.],\n",
       "       [ 0.,  0.,  1.,  0.,  0.,  1.,  0.],\n",
       "       [ 0.,  0.,  0.,  0.,  0.,  0.,  0.],\n",
       "       [ 0.,  0.,  0.,  0.,  0.,  0.,  0.],\n",
       "       [ 0.,  0.,  1.,  0.,  0.,  1.,  0.],\n",
       "       [ 0.,  0.,  0.,  0.,  0.,  0.,  0.]], dtype=float32)"
      ]
     },
     "execution_count": 13,
     "metadata": {},
     "output_type": "execute_result"
    }
   ],
   "source": [
    "output_tf_2, argmax_tf_2 = roi_pooling_op_2(variable_2, rois_tf_2, output_shape_tf_2)\n",
    "output_2, argmax_2 = sess.run([output_tf_2, argmax_tf_2])\n",
    "loss_tf_2 = tf.reduce_sum(output_tf_2)\n",
    "grad_tf_2 = tf.gradients(loss_tf_2,variable_2)\n",
    "grad_2 = sess.run(grad_tf_2[0])\n",
    "grad_2.squeeze()"
   ]
  }
 ],
 "metadata": {
  "anaconda-cloud": {},
  "kernelspec": {
   "display_name": "Python [conda env:py27]",
   "language": "python",
   "name": "conda-env-py27-py"
  },
  "language_info": {
   "codemirror_mode": {
    "name": "ipython",
    "version": 2
   },
   "file_extension": ".py",
   "mimetype": "text/x-python",
   "name": "python",
   "nbconvert_exporter": "python",
   "pygments_lexer": "ipython2",
   "version": "2.7.12"
  }
 },
 "nbformat": 4,
 "nbformat_minor": 1
}
